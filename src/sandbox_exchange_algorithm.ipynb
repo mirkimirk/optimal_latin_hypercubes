{
 "cells": [
  {
   "cell_type": "code",
   "execution_count": 1,
   "metadata": {},
   "outputs": [],
   "source": [
    "import numpy as np\n",
    "from itertools import combinations"
   ]
  },
  {
   "attachments": {},
   "cell_type": "markdown",
   "metadata": {},
   "source": [
    "### New implementation of exchange process"
   ]
  },
  {
   "cell_type": "code",
   "execution_count": 2,
   "metadata": {},
   "outputs": [
    {
     "data": {
      "text/plain": [
       "2"
      ]
     },
     "execution_count": 2,
     "metadata": {},
     "output_type": "execute_result"
    }
   ],
   "source": [
    "dim = 5\n",
    "# Create list of number of columns to change. Leave out the case of changing all columns\n",
    "cols_to_consider = dim // 2\n",
    "cols_to_consider"
   ]
  },
  {
   "attachments": {},
   "cell_type": "markdown",
   "metadata": {},
   "source": [
    "#### Old way, with defining a dictionary first"
   ]
  },
  {
   "cell_type": "code",
   "execution_count": 3,
   "metadata": {},
   "outputs": [
    {
     "data": {
      "text/plain": [
       "({'Consider 1 design variables': {(0,), (1,), (2,), (3,), (4,)},\n",
       "  'Consider 2 design variables': {(0, 1),\n",
       "   (0, 2),\n",
       "   (0, 3),\n",
       "   (0, 4),\n",
       "   (1, 2),\n",
       "   (1, 3),\n",
       "   (1, 4),\n",
       "   (2, 3),\n",
       "   (2, 4),\n",
       "   (3, 4)}},\n",
       " 15,\n",
       " True)"
      ]
     },
     "execution_count": 3,
     "metadata": {},
     "output_type": "execute_result"
    }
   ],
   "source": [
    "# Create dictionary of possible switches\n",
    "switching_components_dict_of_sets = {\n",
    "    f\"Consider {i} design variables\" : set(\n",
    "        filter(lambda x: 0 in x, combinations(range(dim), i))\n",
    "    ) if (i == cols_to_consider) & (dim % 2 == 0)\n",
    "    else (set(combinations(range(dim), i))) for i in range(1, cols_to_consider + 1)\n",
    "}\n",
    "# switching_components_dict_of_sets = {}\n",
    "# for i in range(cols_to_consider):\n",
    "#     i += 1\n",
    "#     if (i == cols_to_consider) & (dim % 2 == 0):\n",
    "#         switching_components_dict_of_sets[f\"Consider {i} design variables\"] = set(\n",
    "#             filter(lambda x: 0 in x, combinations(range(dim), i))\n",
    "#         )\n",
    "#         continue\n",
    "    \n",
    "#     switching_components_dict_of_sets[f\"Consider {i} design variables\"] = set(combinations(range(dim), i))\n",
    "\n",
    "switching_components = [\n",
    "    item for sublist in switching_components_dict_of_sets.values() for item in sublist\n",
    "]\n",
    "\n",
    "total_number_of_switches = len(switching_components)\n",
    "plausibility = (total_number_of_switches == 2 ** (dim - 1) - 1)\n",
    "switching_components_dict_of_sets, total_number_of_switches, plausibility"
   ]
  },
  {
   "cell_type": "code",
   "execution_count": 4,
   "metadata": {},
   "outputs": [
    {
     "data": {
      "text/plain": [
       "(15, True)"
      ]
     },
     "execution_count": 4,
     "metadata": {},
     "output_type": "execute_result"
    }
   ],
   "source": [
    "switching_components = []\n",
    "\n",
    "# Loop through columns to consider\n",
    "for i in range(1, cols_to_consider + 1):\n",
    "    # Special case: dim is even and i equals cols_to_consider\n",
    "    if dim % 2 == 0 and i == cols_to_consider:\n",
    "        curr_combinations = filter(lambda x: 0 in x, combinations(range(dim), i))\n",
    "    else:\n",
    "        curr_combinations = combinations(range(dim), i)\n",
    "    \n",
    "    # Update switching components list\n",
    "    switching_components.extend(curr_combinations)\n",
    "\n",
    "total_number_of_switches = len(switching_components)\n",
    "plausibility = (total_number_of_switches == 2 ** (dim - 1) - 1)\n",
    "total_number_of_switches, plausibility"
   ]
  }
 ],
 "metadata": {
  "kernelspec": {
   "display_name": "base",
   "language": "python",
   "name": "python3"
  },
  "language_info": {
   "codemirror_mode": {
    "name": "ipython",
    "version": 3
   },
   "file_extension": ".py",
   "mimetype": "text/x-python",
   "name": "python",
   "nbconvert_exporter": "python",
   "pygments_lexer": "ipython3",
   "version": "3.9.2"
  },
  "orig_nbformat": 4
 },
 "nbformat": 4,
 "nbformat_minor": 2
}
