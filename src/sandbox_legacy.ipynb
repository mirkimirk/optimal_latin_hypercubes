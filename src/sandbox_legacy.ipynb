{
 "cells": [
  {
   "cell_type": "code",
   "execution_count": 1,
   "metadata": {},
   "outputs": [],
   "source": [
    "import numpy as np\n",
    "from itertools import combinations\n",
    "from functools import partial\n",
    "import pickle\n",
    "from config import BLD"
   ]
  },
  {
   "cell_type": "code",
   "execution_count": 2,
   "metadata": {},
   "outputs": [
    {
     "data": {
      "text/plain": [
       "array([0, 1, 2, 3, 4])"
      ]
     },
     "execution_count": 2,
     "metadata": {},
     "output_type": "execute_result"
    }
   ],
   "source": [
    "np.arange(5)"
   ]
  },
  {
   "cell_type": "code",
   "execution_count": 3,
   "metadata": {},
   "outputs": [
    {
     "data": {
      "text/plain": [
       "array([[1, 4],\n",
       "       [2, 5]])"
      ]
     },
     "execution_count": 3,
     "metadata": {},
     "output_type": "execute_result"
    }
   ],
   "source": [
    "x = np.array([[1,2], [4,5]])\n",
    "y = x @ np.linalg.inv(x.T @ x) @ x.T\n",
    "x.T"
   ]
  },
  {
   "cell_type": "code",
   "execution_count": 4,
   "metadata": {},
   "outputs": [
    {
     "data": {
      "text/plain": [
       "0.9999999999999969"
      ]
     },
     "execution_count": 4,
     "metadata": {},
     "output_type": "execute_result"
    }
   ],
   "source": [
    "np.amax(np.diagonal(y))"
   ]
  },
  {
   "cell_type": "code",
   "execution_count": 5,
   "metadata": {},
   "outputs": [
    {
     "data": {
      "text/plain": [
       "array([1, 2, 3])"
      ]
     },
     "execution_count": 5,
     "metadata": {},
     "output_type": "execute_result"
    }
   ],
   "source": [
    "np.sort([2,3,1])"
   ]
  },
  {
   "cell_type": "code",
   "execution_count": 6,
   "metadata": {},
   "outputs": [
    {
     "data": {
      "text/plain": [
       "2"
      ]
     },
     "execution_count": 6,
     "metadata": {},
     "output_type": "execute_result"
    }
   ],
   "source": [
    "np.argmin([4,5,1,7,9,2])"
   ]
  },
  {
   "cell_type": "code",
   "execution_count": 7,
   "metadata": {},
   "outputs": [
    {
     "data": {
      "text/plain": [
       "[(0, 1), (0, 2), (0, 3), (1, 2), (1, 3), (2, 3)]"
      ]
     },
     "execution_count": 7,
     "metadata": {},
     "output_type": "execute_result"
    }
   ],
   "source": [
    "a = combinations(range(4), 2)\n",
    "list(a)"
   ]
  },
  {
   "cell_type": "code",
   "execution_count": 8,
   "metadata": {},
   "outputs": [],
   "source": [
    "S = np.array([[1,2,3],[2,3,1],[3,1,2]])\n",
    "def _wrapper_del(to_delete, s=S):\n",
    "    return np.delete(s, to_delete, 0)\n",
    "criterion_func = lambda x: x**2\n",
    "partial_del = partial(np.delete, arr=S, axis=0)"
   ]
  },
  {
   "cell_type": "code",
   "execution_count": 9,
   "metadata": {},
   "outputs": [],
   "source": [
    "# function_values = np.empty(3)\n",
    "# for i in range(3):\n",
    "#     function_values[i] = criterion_func(np.delete(S, 0, i))"
   ]
  },
  {
   "cell_type": "code",
   "execution_count": 10,
   "metadata": {},
   "outputs": [
    {
     "data": {
      "text/plain": [
       "128"
      ]
     },
     "execution_count": 10,
     "metadata": {},
     "output_type": "execute_result"
    }
   ],
   "source": [
    "len(list(combinations(range(8), 2))) + len(list(combinations(range(8), 4))) + len(list(combinations(range(8), 6))) + len(list(combinations(range(8), 8)))\n",
    "2**7"
   ]
  },
  {
   "cell_type": "code",
   "execution_count": 11,
   "metadata": {},
   "outputs": [],
   "source": [
    "# a = combinations([1,2,3, 4], 2)\n",
    "# for i in list(a):\n",
    "#     print(S[i,])\n",
    "# a = combinations([1,2,3, 4], 2)\n",
    "# list(a)"
   ]
  },
  {
   "cell_type": "code",
   "execution_count": 12,
   "metadata": {},
   "outputs": [
    {
     "data": {
      "text/plain": [
       "array([2, 4, 6, 8], dtype=int64)"
      ]
     },
     "execution_count": 12,
     "metadata": {},
     "output_type": "execute_result"
    }
   ],
   "source": [
    "dim = 9\n",
    "b = np.where(\n",
    "    np.arange(dim) % 2 == 0\n",
    ")[0][1:]\n",
    "b"
   ]
  },
  {
   "cell_type": "code",
   "execution_count": 13,
   "metadata": {},
   "outputs": [],
   "source": [
    "p_comps = [2,4, 6, 8]\n",
    "a = []\n",
    "# for i in p_comps:\n",
    "#     a.append(list(combinations(range(10), i)))\n",
    "# a"
   ]
  },
  {
   "cell_type": "code",
   "execution_count": 14,
   "metadata": {},
   "outputs": [
    {
     "data": {
      "text/plain": [
       "array([[1, 2, 3],\n",
       "       [3, 1, 1],\n",
       "       [2, 3, 2]])"
      ]
     },
     "execution_count": 14,
     "metadata": {},
     "output_type": "execute_result"
    }
   ],
   "source": [
    "S = np.array([[1,2,3],[2,3,1],[3,1,2]])\n",
    "S[([1],[2]), (0,1)] = S[([2],[1]),(0,1)]\n",
    "S"
   ]
  },
  {
   "cell_type": "code",
   "execution_count": 15,
   "metadata": {},
   "outputs": [
    {
     "data": {
      "text/plain": [
       "array([[1, 2, 3],\n",
       "       [3, 1, 1],\n",
       "       [2, 3, 2],\n",
       "       [4, 5, 6]])"
      ]
     },
     "execution_count": 15,
     "metadata": {},
     "output_type": "execute_result"
    }
   ],
   "source": [
    "S = np.array([[1,2,3],[2,3,1],[3,1,2], [4,5,6]])\n",
    "S_temp = S.copy()\n",
    "S_temp[[([1],[2])],(0,1)] = S[[([2],[1])],(0,1)]\n",
    "S_temp"
   ]
  },
  {
   "cell_type": "code",
   "execution_count": 16,
   "metadata": {},
   "outputs": [
    {
     "data": {
      "text/plain": [
       "array([ 2,  4,  6,  8, 10], dtype=int64)"
      ]
     },
     "execution_count": 16,
     "metadata": {},
     "output_type": "execute_result"
    }
   ],
   "source": [
    "dim = 10\n",
    "n_components = np.where(\n",
    "    np.arange(dim+1) % 2 == 0\n",
    ")[0][1:]\n",
    "n_components"
   ]
  },
  {
   "cell_type": "code",
   "execution_count": 17,
   "metadata": {},
   "outputs": [
    {
     "data": {
      "text/plain": [
       "511"
      ]
     },
     "execution_count": 17,
     "metadata": {},
     "output_type": "execute_result"
    }
   ],
   "source": [
    "switching_components_list = []\n",
    "# loop over even-numbered combinations\n",
    "for i in n_components:\n",
    "    switching_components_list.append(list(combinations(range(dim), i)))\n",
    "switching_components = [item for sublist in switching_components_list for item in sublist]\n",
    "len(switching_components)"
   ]
  },
  {
   "cell_type": "code",
   "execution_count": 18,
   "metadata": {},
   "outputs": [
    {
     "data": {
      "text/plain": [
       "function"
      ]
     },
     "execution_count": 18,
     "metadata": {},
     "output_type": "execute_result"
    }
   ],
   "source": [
    "type(lambda x: x**2)"
   ]
  },
  {
   "cell_type": "code",
   "execution_count": 19,
   "metadata": {},
   "outputs": [
    {
     "name": "stdout",
     "output_type": "stream",
     "text": [
      "True\n",
      "False\n"
     ]
    },
    {
     "data": {
      "text/plain": [
       "['first', 'second']"
      ]
     },
     "execution_count": 19,
     "metadata": {},
     "output_type": "execute_result"
    }
   ],
   "source": [
    "dict = {\"first\" : \"hallo\", \"second\" : \"tschüss\"}\n",
    "for i in dict.keys():\n",
    "    print(i == \"first\")\n",
    "list(dict.keys())"
   ]
  },
  {
   "cell_type": "code",
   "execution_count": 20,
   "metadata": {},
   "outputs": [],
   "source": [
    "first = BLD / \"data\" / \"full.pickle\"\n",
    "first_sample = pickle.load(open(first, \"rb\"))"
   ]
  },
  {
   "cell_type": "code",
   "execution_count": 21,
   "metadata": {},
   "outputs": [
    {
     "data": {
      "text/plain": [
       "[2, 3, 4, 5, 7]"
      ]
     },
     "execution_count": 21,
     "metadata": {},
     "output_type": "execute_result"
    }
   ],
   "source": [
    "target_n_points = 11\n",
    "3 * target_n_points // 5\n",
    "dumlist = [1,2,3,4,5,6,7,8]\n",
    "sublist = [1,6,8]\n",
    "list(set(dumlist) - set(sublist))"
   ]
  },
  {
   "cell_type": "code",
   "execution_count": 22,
   "metadata": {},
   "outputs": [
    {
     "data": {
      "text/plain": [
       "array([[1, 2],\n",
       "       [5, 6]])"
      ]
     },
     "execution_count": 22,
     "metadata": {},
     "output_type": "execute_result"
    }
   ],
   "source": [
    "arr = np.array([(1,2), (3,4), (5,6)])\n",
    "arr\n",
    "rows = np.random.default_rng().choice(\n",
    "    a=arr,\n",
    "    size=2,\n",
    "    replace=False,\n",
    "    axis=0,\n",
    "    shuffle=False\n",
    ")\n",
    "rows"
   ]
  },
  {
   "cell_type": "code",
   "execution_count": 23,
   "metadata": {},
   "outputs": [
    {
     "data": {
      "text/plain": [
       "(7, 10)"
      ]
     },
     "execution_count": 23,
     "metadata": {},
     "output_type": "execute_result"
    }
   ],
   "source": [
    "comb = combinations(range(5), 2)\n",
    "arr = np.array(list(comb))\n",
    "np.random.default_rng().choice(len(arr)), len(arr)"
   ]
  },
  {
   "cell_type": "code",
   "execution_count": 24,
   "metadata": {},
   "outputs": [
    {
     "data": {
      "text/plain": [
       "array([[3.19160537e-01, 3.72482449e-04],\n",
       "       [1.00679926e+00, 1.74135719e-01],\n",
       "       [2.71879166e-01, 8.15955588e-01],\n",
       "       [9.81937051e-01, 8.16636757e-01],\n",
       "       [1.21539949e+00, 4.70041930e-01],\n",
       "       [7.82185658e-01, 5.53216786e-01],\n",
       "       [8.22972772e-01, 1.31527970e+00],\n",
       "       [7.34314377e-01, 1.52632473e+00],\n",
       "       [1.51294582e+00, 8.94429422e-01],\n",
       "       [9.11680919e-01, 1.55532607e+00]])"
      ]
     },
     "execution_count": 24,
     "metadata": {},
     "output_type": "execute_result"
    }
   ],
   "source": [
    "bad = np.array([[i/10, i/10] for i in range(10)])\n",
    "bad + np.random.default_rng().uniform(size = bad.shape)"
   ]
  },
  {
   "cell_type": "code",
   "execution_count": 25,
   "metadata": {},
   "outputs": [],
   "source": [
    "f = lambda x: np.linalg.det(np.linalg.inv(x.T @ x))\n",
    "n_samples = 10\n",
    "dim = 2\n",
    "lhs_design = \"centered\"\n",
    "sample = np.zeros((n_samples, dim))\n",
    "for j in range(dim):\n",
    "    sample[:, j] = np.random.default_rng().choice(\n",
    "        n_samples, replace=False, size=n_samples\n",
    "    )\n",
    "\n",
    "if lhs_design == \"random\":\n",
    "    sample += np.random.default_rng().uniform(size=sample.shape)\n",
    "elif lhs_design == \"centered\":\n",
    "    sample += 0.5\n",
    "else:\n",
    "    raise ValueError(\"Invalid Latin hypercube design.\")\n",
    "\n"
   ]
  },
  {
   "cell_type": "code",
   "execution_count": 26,
   "metadata": {},
   "outputs": [
    {
     "data": {
      "text/plain": [
       "(2.8946701885153954e-05, 2.8946701885153954e-05)"
      ]
     },
     "execution_count": 26,
     "metadata": {},
     "output_type": "execute_result"
    }
   ],
   "source": [
    "S = sample\n",
    "S_k = S\n",
    "S_k[0] = S[2]\n",
    "f(S), f(S_k)"
   ]
  },
  {
   "cell_type": "code",
   "execution_count": null,
   "metadata": {},
   "outputs": [],
   "source": []
  }
 ],
 "metadata": {
  "kernelspec": {
   "display_name": "Python 3.8.5 64-bit (conda)",
   "metadata": {
    "interpreter": {
     "hash": "97ae724bfa85b9b34df7982b8bb8c7216f435b92902d749e4263f71162bea840"
    }
   },
   "name": "python3"
  },
  "language_info": {
   "codemirror_mode": {
    "name": "ipython",
    "version": 3
   },
   "file_extension": ".py",
   "mimetype": "text/x-python",
   "name": "python",
   "nbconvert_exporter": "python",
   "pygments_lexer": "ipython3",
   "version": "3.9.2"
  },
  "orig_nbformat": 2
 },
 "nbformat": 4,
 "nbformat_minor": 2
}
