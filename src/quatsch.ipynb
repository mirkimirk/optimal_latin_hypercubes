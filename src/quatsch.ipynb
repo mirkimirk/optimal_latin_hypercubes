{
 "metadata": {
  "language_info": {
   "codemirror_mode": {
    "name": "ipython",
    "version": 3
   },
   "file_extension": ".py",
   "mimetype": "text/x-python",
   "name": "python",
   "nbconvert_exporter": "python",
   "pygments_lexer": "ipython3",
   "version": "3.8.5-final"
  },
  "orig_nbformat": 2,
  "kernelspec": {
   "name": "python3",
   "display_name": "Python 3.8.5 64-bit (conda)",
   "metadata": {
    "interpreter": {
     "hash": "97ae724bfa85b9b34df7982b8bb8c7216f435b92902d749e4263f71162bea840"
    }
   }
  }
 },
 "nbformat": 4,
 "nbformat_minor": 2,
 "cells": [
  {
   "cell_type": "code",
   "execution_count": 18,
   "metadata": {},
   "outputs": [],
   "source": [
    "import numpy as np\n",
    "from itertools import combinations\n",
    "from functools import partial"
   ]
  },
  {
   "cell_type": "code",
   "execution_count": 19,
   "metadata": {},
   "outputs": [
    {
     "output_type": "execute_result",
     "data": {
      "text/plain": [
       "array([0, 1, 2, 3, 4])"
      ]
     },
     "metadata": {},
     "execution_count": 19
    }
   ],
   "source": [
    "np.arange(5)"
   ]
  },
  {
   "cell_type": "code",
   "execution_count": 20,
   "metadata": {},
   "outputs": [
    {
     "output_type": "execute_result",
     "data": {
      "text/plain": [
       "array([[1, 4],\n",
       "       [2, 5]])"
      ]
     },
     "metadata": {},
     "execution_count": 20
    }
   ],
   "source": [
    "x = np.array([[1,2], [4,5]])\n",
    "y = x @ np.linalg.inv(x.T @ x) @ x.T\n",
    "x.T"
   ]
  },
  {
   "cell_type": "code",
   "execution_count": 21,
   "metadata": {},
   "outputs": [
    {
     "output_type": "execute_result",
     "data": {
      "text/plain": [
       "0.9999999999999969"
      ]
     },
     "metadata": {},
     "execution_count": 21
    }
   ],
   "source": [
    "np.amax(np.diagonal(y))"
   ]
  },
  {
   "cell_type": "code",
   "execution_count": 22,
   "metadata": {},
   "outputs": [
    {
     "output_type": "execute_result",
     "data": {
      "text/plain": [
       "array([1, 2, 3])"
      ]
     },
     "metadata": {},
     "execution_count": 22
    }
   ],
   "source": [
    "np.sort([2,3,1])"
   ]
  },
  {
   "cell_type": "code",
   "execution_count": 23,
   "metadata": {},
   "outputs": [
    {
     "output_type": "execute_result",
     "data": {
      "text/plain": [
       "2"
      ]
     },
     "metadata": {},
     "execution_count": 23
    }
   ],
   "source": [
    "np.argmin([4,5,1,7,9,2])"
   ]
  },
  {
   "cell_type": "code",
   "execution_count": 76,
   "metadata": {},
   "outputs": [
    {
     "output_type": "stream",
     "name": "stdout",
     "text": [
      "0\n0\n0\n1\n1\n2\n"
     ]
    }
   ],
   "source": [
    "a = combinations(range(4), 2)\n",
    "for i in a:\n",
    "    print(i[0])"
   ]
  },
  {
   "cell_type": "code",
   "execution_count": 25,
   "metadata": {},
   "outputs": [],
   "source": [
    "S = np.array([[1,2,3],[2,3,1],[3,1,2]])\n",
    "def _wrapper_del(to_delete, s=S):\n",
    "    return np.delete(s, to_delete, 0)\n",
    "criterion_func = lambda x: x**2\n",
    "partial_del = partial(np.delete, arr=S, axis=0)"
   ]
  },
  {
   "cell_type": "code",
   "execution_count": 30,
   "metadata": {},
   "outputs": [],
   "source": [
    "# function_values = np.empty(3)\n",
    "# for i in range(3):\n",
    "#     function_values[i] = criterion_func(np.delete(S, 0, i))"
   ]
  },
  {
   "cell_type": "code",
   "execution_count": 31,
   "metadata": {},
   "outputs": [
    {
     "output_type": "execute_result",
     "data": {
      "text/plain": [
       "128"
      ]
     },
     "metadata": {},
     "execution_count": 31
    }
   ],
   "source": [
    "len(list(combinations(range(8), 2))) + len(list(combinations(range(8), 4))) + len(list(combinations(range(8), 6))) + len(list(combinations(range(8), 8)))\n",
    "2**7"
   ]
  },
  {
   "cell_type": "code",
   "execution_count": 32,
   "metadata": {},
   "outputs": [],
   "source": [
    "# a = combinations([1,2,3, 4], 2)\n",
    "# for i in list(a):\n",
    "#     print(S[i,])\n",
    "# a = combinations([1,2,3, 4], 2)\n",
    "# list(a)"
   ]
  },
  {
   "cell_type": "code",
   "execution_count": 33,
   "metadata": {},
   "outputs": [
    {
     "output_type": "execute_result",
     "data": {
      "text/plain": [
       "array([2, 4, 6, 8], dtype=int64)"
      ]
     },
     "metadata": {},
     "execution_count": 33
    }
   ],
   "source": [
    "dim = 9\n",
    "b = np.where(\n",
    "    np.arange(dim) % 2 == 0\n",
    ")[0][1:]\n",
    "b"
   ]
  },
  {
   "cell_type": "code",
   "execution_count": 34,
   "metadata": {},
   "outputs": [],
   "source": [
    "p_comps = [2,4, 6, 8]\n",
    "a = []\n",
    "# for i in p_comps:\n",
    "#     a.append(list(combinations(range(10), i)))\n",
    "# a"
   ]
  },
  {
   "cell_type": "code",
   "execution_count": 69,
   "metadata": {},
   "outputs": [
    {
     "output_type": "execute_result",
     "data": {
      "text/plain": [
       "array([[1, 2, 3],\n",
       "       [3, 1, 1],\n",
       "       [2, 3, 2]])"
      ]
     },
     "metadata": {},
     "execution_count": 69
    }
   ],
   "source": [
    "S = np.array([[1,2,3],[2,3,1],[3,1,2]])\n",
    "S[([1],[2]), (0,1)] = S[([2],[1]),(0,1)]\n",
    "S"
   ]
  },
  {
   "cell_type": "code",
   "execution_count": 86,
   "metadata": {},
   "outputs": [
    {
     "output_type": "execute_result",
     "data": {
      "text/plain": [
       "array([[1, 2, 3],\n",
       "       [3, 1, 1],\n",
       "       [2, 3, 2],\n",
       "       [4, 5, 6]])"
      ]
     },
     "metadata": {},
     "execution_count": 86
    }
   ],
   "source": [
    "S = np.array([[1,2,3],[2,3,1],[3,1,2], [4,5,6]])\n",
    "S_temp = S.copy()\n",
    "S_temp[[([1],[2])],(0,1)] = S[[([2],[1])],(0,1)]\n",
    "S_temp"
   ]
  },
  {
   "cell_type": "code",
   "execution_count": 112,
   "metadata": {},
   "outputs": [
    {
     "output_type": "execute_result",
     "data": {
      "text/plain": [
       "array([ 2,  4,  6,  8, 10], dtype=int64)"
      ]
     },
     "metadata": {},
     "execution_count": 112
    }
   ],
   "source": [
    "dim = 10\n",
    "n_components = np.where(\n",
    "    np.arange(dim+1) % 2 == 0\n",
    ")[0][1:]\n",
    "n_components"
   ]
  },
  {
   "cell_type": "code",
   "execution_count": 109,
   "metadata": {},
   "outputs": [
    {
     "output_type": "execute_result",
     "data": {
      "text/plain": [
       "126"
      ]
     },
     "metadata": {},
     "execution_count": 109
    }
   ],
   "source": [
    "switching_components_list = []\n",
    "# loop over even-numbered combinations\n",
    "for i in n_components:\n",
    "    switching_components_list.append(list(combinations(range(dim), i)))\n",
    "switching_components = [item for sublist in switching_components_list for item in sublist]\n",
    "len(switching_components)"
   ]
  }
 ]
}