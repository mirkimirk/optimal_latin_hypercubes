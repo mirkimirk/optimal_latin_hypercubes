{
 "metadata": {
  "language_info": {
   "codemirror_mode": {
    "name": "ipython",
    "version": 3
   },
   "file_extension": ".py",
   "mimetype": "text/x-python",
   "name": "python",
   "nbconvert_exporter": "python",
   "pygments_lexer": "ipython3",
   "version": "3.8.5-final"
  },
  "orig_nbformat": 2,
  "kernelspec": {
   "name": "python3",
   "display_name": "Python 3.8.5 64-bit (conda)",
   "metadata": {
    "interpreter": {
     "hash": "97ae724bfa85b9b34df7982b8bb8c7216f435b92902d749e4263f71162bea840"
    }
   }
  }
 },
 "nbformat": 4,
 "nbformat_minor": 2,
 "cells": [
  {
   "cell_type": "code",
   "execution_count": 1,
   "metadata": {},
   "outputs": [],
   "source": [
    "import numpy as np\n",
    "from itertools import combinations\n",
    "from functools import partial\n",
    "import pickle\n",
    "from config import BLD"
   ]
  },
  {
   "cell_type": "code",
   "execution_count": 2,
   "metadata": {},
   "outputs": [
    {
     "output_type": "execute_result",
     "data": {
      "text/plain": [
       "array([0, 1, 2, 3, 4])"
      ]
     },
     "metadata": {},
     "execution_count": 2
    }
   ],
   "source": [
    "np.arange(5)"
   ]
  },
  {
   "cell_type": "code",
   "execution_count": 3,
   "metadata": {},
   "outputs": [
    {
     "output_type": "execute_result",
     "data": {
      "text/plain": [
       "array([[1, 4],\n",
       "       [2, 5]])"
      ]
     },
     "metadata": {},
     "execution_count": 3
    }
   ],
   "source": [
    "x = np.array([[1,2], [4,5]])\n",
    "y = x @ np.linalg.inv(x.T @ x) @ x.T\n",
    "x.T"
   ]
  },
  {
   "cell_type": "code",
   "execution_count": 4,
   "metadata": {},
   "outputs": [
    {
     "output_type": "execute_result",
     "data": {
      "text/plain": [
       "0.9999999999999969"
      ]
     },
     "metadata": {},
     "execution_count": 4
    }
   ],
   "source": [
    "np.amax(np.diagonal(y))"
   ]
  },
  {
   "cell_type": "code",
   "execution_count": 5,
   "metadata": {},
   "outputs": [
    {
     "output_type": "execute_result",
     "data": {
      "text/plain": [
       "array([1, 2, 3])"
      ]
     },
     "metadata": {},
     "execution_count": 5
    }
   ],
   "source": [
    "np.sort([2,3,1])"
   ]
  },
  {
   "cell_type": "code",
   "execution_count": 6,
   "metadata": {},
   "outputs": [
    {
     "output_type": "execute_result",
     "data": {
      "text/plain": [
       "2"
      ]
     },
     "metadata": {},
     "execution_count": 6
    }
   ],
   "source": [
    "np.argmin([4,5,1,7,9,2])"
   ]
  },
  {
   "cell_type": "code",
   "execution_count": 81,
   "metadata": {},
   "outputs": [
    {
     "output_type": "execute_result",
     "data": {
      "text/plain": [
       "[(0, 1), (0, 2), (0, 3), (1, 2), (1, 3), (2, 3)]"
      ]
     },
     "metadata": {},
     "execution_count": 81
    }
   ],
   "source": [
    "a = combinations(range(4), 2)\n",
    "list(a)"
   ]
  },
  {
   "cell_type": "code",
   "execution_count": 8,
   "metadata": {},
   "outputs": [],
   "source": [
    "S = np.array([[1,2,3],[2,3,1],[3,1,2]])\n",
    "def _wrapper_del(to_delete, s=S):\n",
    "    return np.delete(s, to_delete, 0)\n",
    "criterion_func = lambda x: x**2\n",
    "partial_del = partial(np.delete, arr=S, axis=0)"
   ]
  },
  {
   "cell_type": "code",
   "execution_count": 9,
   "metadata": {},
   "outputs": [],
   "source": [
    "# function_values = np.empty(3)\n",
    "# for i in range(3):\n",
    "#     function_values[i] = criterion_func(np.delete(S, 0, i))"
   ]
  },
  {
   "cell_type": "code",
   "execution_count": 10,
   "metadata": {},
   "outputs": [
    {
     "output_type": "execute_result",
     "data": {
      "text/plain": [
       "128"
      ]
     },
     "metadata": {},
     "execution_count": 10
    }
   ],
   "source": [
    "len(list(combinations(range(8), 2))) + len(list(combinations(range(8), 4))) + len(list(combinations(range(8), 6))) + len(list(combinations(range(8), 8)))\n",
    "2**7"
   ]
  },
  {
   "cell_type": "code",
   "execution_count": 11,
   "metadata": {},
   "outputs": [],
   "source": [
    "# a = combinations([1,2,3, 4], 2)\n",
    "# for i in list(a):\n",
    "#     print(S[i,])\n",
    "# a = combinations([1,2,3, 4], 2)\n",
    "# list(a)"
   ]
  },
  {
   "cell_type": "code",
   "execution_count": 12,
   "metadata": {},
   "outputs": [
    {
     "output_type": "execute_result",
     "data": {
      "text/plain": [
       "array([2, 4, 6, 8], dtype=int64)"
      ]
     },
     "metadata": {},
     "execution_count": 12
    }
   ],
   "source": [
    "dim = 9\n",
    "b = np.where(\n",
    "    np.arange(dim) % 2 == 0\n",
    ")[0][1:]\n",
    "b"
   ]
  },
  {
   "cell_type": "code",
   "execution_count": 13,
   "metadata": {},
   "outputs": [],
   "source": [
    "p_comps = [2,4, 6, 8]\n",
    "a = []\n",
    "# for i in p_comps:\n",
    "#     a.append(list(combinations(range(10), i)))\n",
    "# a"
   ]
  },
  {
   "cell_type": "code",
   "execution_count": 14,
   "metadata": {},
   "outputs": [
    {
     "output_type": "execute_result",
     "data": {
      "text/plain": [
       "array([[1, 2, 3],\n",
       "       [3, 1, 1],\n",
       "       [2, 3, 2]])"
      ]
     },
     "metadata": {},
     "execution_count": 14
    }
   ],
   "source": [
    "S = np.array([[1,2,3],[2,3,1],[3,1,2]])\n",
    "S[([1],[2]), (0,1)] = S[([2],[1]),(0,1)]\n",
    "S"
   ]
  },
  {
   "cell_type": "code",
   "execution_count": 15,
   "metadata": {},
   "outputs": [
    {
     "output_type": "execute_result",
     "data": {
      "text/plain": [
       "array([[1, 2, 3],\n",
       "       [3, 1, 1],\n",
       "       [2, 3, 2],\n",
       "       [4, 5, 6]])"
      ]
     },
     "metadata": {},
     "execution_count": 15
    }
   ],
   "source": [
    "S = np.array([[1,2,3],[2,3,1],[3,1,2], [4,5,6]])\n",
    "S_temp = S.copy()\n",
    "S_temp[[([1],[2])],(0,1)] = S[[([2],[1])],(0,1)]\n",
    "S_temp"
   ]
  },
  {
   "cell_type": "code",
   "execution_count": 16,
   "metadata": {},
   "outputs": [
    {
     "output_type": "execute_result",
     "data": {
      "text/plain": [
       "array([ 2,  4,  6,  8, 10], dtype=int64)"
      ]
     },
     "metadata": {},
     "execution_count": 16
    }
   ],
   "source": [
    "dim = 10\n",
    "n_components = np.where(\n",
    "    np.arange(dim+1) % 2 == 0\n",
    ")[0][1:]\n",
    "n_components"
   ]
  },
  {
   "cell_type": "code",
   "execution_count": 17,
   "metadata": {},
   "outputs": [
    {
     "output_type": "execute_result",
     "data": {
      "text/plain": [
       "511"
      ]
     },
     "metadata": {},
     "execution_count": 17
    }
   ],
   "source": [
    "switching_components_list = []\n",
    "# loop over even-numbered combinations\n",
    "for i in n_components:\n",
    "    switching_components_list.append(list(combinations(range(dim), i)))\n",
    "switching_components = [item for sublist in switching_components_list for item in sublist]\n",
    "len(switching_components)"
   ]
  },
  {
   "cell_type": "code",
   "execution_count": 18,
   "metadata": {},
   "outputs": [
    {
     "output_type": "execute_result",
     "data": {
      "text/plain": [
       "function"
      ]
     },
     "metadata": {},
     "execution_count": 18
    }
   ],
   "source": [
    "type(lambda x: x**2)"
   ]
  },
  {
   "cell_type": "code",
   "execution_count": 19,
   "metadata": {},
   "outputs": [
    {
     "output_type": "stream",
     "name": "stdout",
     "text": [
      "True\nFalse\n"
     ]
    },
    {
     "output_type": "execute_result",
     "data": {
      "text/plain": [
       "['first', 'second']"
      ]
     },
     "metadata": {},
     "execution_count": 19
    }
   ],
   "source": [
    "dict = {\"first\" : \"hallo\", \"second\" : \"tschüss\"}\n",
    "for i in dict.keys():\n",
    "    print(i == \"first\")\n",
    "list(dict.keys())"
   ]
  },
  {
   "cell_type": "code",
   "execution_count": 20,
   "metadata": {},
   "outputs": [
    {
     "output_type": "execute_result",
     "data": {
      "text/plain": [
       "array([[0.375, 0.075],\n",
       "       [0.125, 0.475],\n",
       "       [0.175, 0.025],\n",
       "       [0.425, 0.425],\n",
       "       [0.325, 0.925],\n",
       "       [0.975, 0.525],\n",
       "       [0.925, 0.575],\n",
       "       [0.525, 0.975],\n",
       "       [0.775, 0.825],\n",
       "       [0.475, 0.175],\n",
       "       [0.825, 0.225],\n",
       "       [0.075, 0.375],\n",
       "       [0.275, 0.325],\n",
       "       [0.625, 0.675],\n",
       "       [0.025, 0.275],\n",
       "       [0.225, 0.125],\n",
       "       [0.675, 0.725],\n",
       "       [0.875, 0.875],\n",
       "       [0.725, 0.775],\n",
       "       [0.575, 0.625]])"
      ]
     },
     "metadata": {},
     "execution_count": 20
    }
   ],
   "source": [
    "first = BLD / \"data\" / \"full.pickle\"\n",
    "first_sample = pickle.load(open(first, \"rb\"))"
   ]
  },
  {
   "cell_type": "code",
   "execution_count": 39,
   "metadata": {},
   "outputs": [
    {
     "output_type": "execute_result",
     "data": {
      "text/plain": [
       "[2, 3, 4, 5, 7]"
      ]
     },
     "metadata": {},
     "execution_count": 39
    }
   ],
   "source": [
    "target_n_points = 11\n",
    "3 * target_n_points // 5\n",
    "dumlist = [1,2,3,4,5,6,7,8]\n",
    "sublist = [1,6,8]\n",
    "list(set(dumlist) - set(sublist))"
   ]
  },
  {
   "cell_type": "code",
   "execution_count": 185,
   "metadata": {},
   "outputs": [
    {
     "output_type": "execute_result",
     "data": {
      "text/plain": [
       "array([[3, 4],\n",
       "       [5, 6]])"
      ]
     },
     "metadata": {},
     "execution_count": 185
    }
   ],
   "source": [
    "arr = np.array([(1,2), (3,4), (5,6)])\n",
    "arr\n",
    "rows = np.random.default_rng().choice(\n",
    "    a=arr,\n",
    "    size=2,\n",
    "    replace=False,\n",
    "    axis=0,\n",
    "    shuffle=False\n",
    ")\n",
    "rows"
   ]
  },
  {
   "cell_type": "code",
   "execution_count": 168,
   "metadata": {},
   "outputs": [
    {
     "output_type": "execute_result",
     "data": {
      "text/plain": [
       "(2, 10)"
      ]
     },
     "metadata": {},
     "execution_count": 168
    }
   ],
   "source": [
    "comb = combinations(range(5), 2)\n",
    "arr = np.array(list(comb))\n",
    "np.random.default_rng().choice(len(arr)), len(arr)"
   ]
  }
 ]
}