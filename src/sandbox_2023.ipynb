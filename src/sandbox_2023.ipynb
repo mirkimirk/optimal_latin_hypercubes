{
 "cells": [
  {
   "cell_type": "code",
   "execution_count": 34,
   "metadata": {},
   "outputs": [],
   "source": [
    "import numpy as np\n",
    "from itertools import combinations"
   ]
  },
  {
   "attachments": {},
   "cell_type": "markdown",
   "metadata": {},
   "source": [
    "### New implementation of exchange process"
   ]
  },
  {
   "cell_type": "code",
   "execution_count": 154,
   "metadata": {},
   "outputs": [
    {
     "data": {
      "text/plain": [
       "3"
      ]
     },
     "execution_count": 154,
     "metadata": {},
     "output_type": "execute_result"
    }
   ],
   "source": [
    "dim = 6\n",
    "# Create list of number of columns to change. Leave out the case of changing all columns\n",
    "cols_to_consider = int(np.floor(dim/2))\n",
    "cols_to_consider"
   ]
  },
  {
   "cell_type": "code",
   "execution_count": 155,
   "metadata": {},
   "outputs": [
    {
     "data": {
      "text/plain": [
       "({'Consider 1 design variables': {(0,), (1,), (2,), (3,), (4,), (5,)},\n",
       "  'Consider 2 design variables': {(0, 1),\n",
       "   (0, 2),\n",
       "   (0, 3),\n",
       "   (0, 4),\n",
       "   (0, 5),\n",
       "   (1, 2),\n",
       "   (1, 3),\n",
       "   (1, 4),\n",
       "   (1, 5),\n",
       "   (2, 3),\n",
       "   (2, 4),\n",
       "   (2, 5),\n",
       "   (3, 4),\n",
       "   (3, 5),\n",
       "   (4, 5)},\n",
       "  'Consider 3 design variables': {(0, 1, 2),\n",
       "   (0, 1, 3),\n",
       "   (0, 1, 4),\n",
       "   (0, 1, 5),\n",
       "   (0, 2, 3),\n",
       "   (0, 2, 4),\n",
       "   (0, 2, 5),\n",
       "   (0, 3, 4),\n",
       "   (0, 3, 5),\n",
       "   (0, 4, 5)}},\n",
       " 31,\n",
       " True)"
      ]
     },
     "execution_count": 155,
     "metadata": {},
     "output_type": "execute_result"
    }
   ],
   "source": [
    "# Create dictionary of possible switches\n",
    "# switching_components_dict_of_sets = {\n",
    "#         f\"Consider {i+1} design variables\" : set(combinations(range(dim), i+1)) for i in cols_to_consider\n",
    "# }\n",
    "switching_components_dict_of_sets = {}\n",
    "for i in range(cols_to_consider):\n",
    "    i += 1\n",
    "    if (i == cols_to_consider) & (dim % 2 == 0):\n",
    "        switching_components_dict_of_sets[f\"Consider {i} design variables\"] = set(\n",
    "            filter(lambda x: 0 in x, combinations(range(dim), i))\n",
    "        )\n",
    "        continue\n",
    "    \n",
    "    switching_components_dict_of_sets[f\"Consider {i} design variables\"] = set(combinations(range(dim), i))\n",
    "\n",
    "switching_components = [\n",
    "    item for sublist in switching_components_dict_of_sets.values() for item in sublist\n",
    "]\n",
    "\n",
    "total_number_of_switches = len(switching_components)\n",
    "plausibility = (total_number_of_switches == 2 ** (dim - 1) - 1)\n",
    "switching_components_dict_of_sets, total_number_of_switches, plausibility"
   ]
  },
  {
   "cell_type": "code",
   "execution_count": 103,
   "metadata": {},
   "outputs": [
    {
     "data": {
      "text/plain": [
       "[(0, 1),\n",
       " (0, 2),\n",
       " (0, 3),\n",
       " (0, 4),\n",
       " (1, 2),\n",
       " (1, 3),\n",
       " (1, 4),\n",
       " (2, 3),\n",
       " (2, 4),\n",
       " (3, 4)]"
      ]
     },
     "execution_count": 103,
     "metadata": {},
     "output_type": "execute_result"
    }
   ],
   "source": [
    "list(combinations(range(dim), 2))"
   ]
  },
  {
   "cell_type": "code",
   "execution_count": null,
   "metadata": {},
   "outputs": [
    {
     "data": {
      "text/plain": [
       "array([0, 2], dtype=int64)"
      ]
     },
     "execution_count": 21,
     "metadata": {},
     "output_type": "execute_result"
    }
   ],
   "source": [
    "np.where(cols_to_consider % 2 == 0)[0]"
   ]
  },
  {
   "attachments": {},
   "cell_type": "markdown",
   "metadata": {},
   "source": [
    "### ChatGPT's suggestion"
   ]
  },
  {
   "cell_type": "code",
   "execution_count": null,
   "metadata": {},
   "outputs": [
    {
     "data": {
      "text/plain": [
       "{'Consider 2 design variables': {(0, 1), (0, 2), (0, 3)}}"
      ]
     },
     "execution_count": 23,
     "metadata": {},
     "output_type": "execute_result"
    }
   ],
   "source": [
    "from itertools import combinations\n",
    "\n",
    "dim = 4\n",
    "cols_to_consider = range(ceil(dim/2))\n",
    "\n",
    "# Initialize an empty dictionary\n",
    "switching_components_dict_of_sets = {}\n",
    "\n",
    "# Generate combinations that include 0 for all possible sizes\n",
    "for i in cols_to_consider:\n",
    "    # Increment i because cols_to_consider starts at 0 but we want combinations of at least size 1\n",
    "    i += 1\n",
    "    switching_components_dict_of_sets[f\"Consider {i} design variables\"] = set(filter(lambda x: 0 in x, combinations(range(dim), i)))\n",
    "    \n",
    "# Delete case of switching nothing\n",
    "del switching_components_dict_of_sets[f\"Consider {1} design variables\"]\n",
    "\n",
    "switching_components_dict_of_sets"
   ]
  }
 ],
 "metadata": {
  "kernelspec": {
   "display_name": "base",
   "language": "python",
   "name": "python3"
  },
  "language_info": {
   "codemirror_mode": {
    "name": "ipython",
    "version": 3
   },
   "file_extension": ".py",
   "mimetype": "text/x-python",
   "name": "python",
   "nbconvert_exporter": "python",
   "pygments_lexer": "ipython3",
   "version": "3.9.2"
  },
  "orig_nbformat": 4
 },
 "nbformat": 4,
 "nbformat_minor": 2
}
