{
 "cells": [
  {
   "cell_type": "code",
   "execution_count": 133,
   "metadata": {},
   "outputs": [],
   "source": [
    "import numpy as np\n",
    "from itertools import combinations"
   ]
  },
  {
   "cell_type": "code",
   "execution_count": 134,
   "metadata": {},
   "outputs": [],
   "source": [
    "dim = 4"
   ]
  },
  {
   "attachments": {},
   "cell_type": "markdown",
   "metadata": {},
   "source": [
    "### Old Implementation about even-numbered combinations"
   ]
  },
  {
   "cell_type": "code",
   "execution_count": 135,
   "metadata": {},
   "outputs": [
    {
     "data": {
      "text/plain": [
       "array([2, 4], dtype=int64)"
      ]
     },
     "execution_count": 135,
     "metadata": {},
     "output_type": "execute_result"
    }
   ],
   "source": [
    "n_components = np.where(np.arange(dim + 1) % 2 == 0)[0][1:]\n",
    "n_components"
   ]
  },
  {
   "cell_type": "code",
   "execution_count": 136,
   "metadata": {},
   "outputs": [
    {
     "data": {
      "text/plain": [
       "[[(0, 1), (0, 2), (0, 3), (1, 2), (1, 3), (2, 3)], [(0, 1, 2, 3)]]"
      ]
     },
     "execution_count": 136,
     "metadata": {},
     "output_type": "execute_result"
    }
   ],
   "source": [
    "switching_components_lists = [\n",
    "        list(combinations(range(dim), i)) for i in n_components\n",
    "    ]\n",
    "switching_components_lists"
   ]
  },
  {
   "attachments": {},
   "cell_type": "markdown",
   "metadata": {},
   "source": [
    "### New implementation"
   ]
  },
  {
   "cell_type": "code",
   "execution_count": 137,
   "metadata": {},
   "outputs": [],
   "source": [
    "# Create list of number of columns to change. Leave out the case of changing all columns\n",
    "cols_to_consider = np.arange(dim)"
   ]
  },
  {
   "cell_type": "code",
   "execution_count": 138,
   "metadata": {},
   "outputs": [
    {
     "data": {
      "text/plain": [
       "{'Consider 1 design variables': {(0,), (1,), (2,), (3,)},\n",
       " 'Consider 2 design variables': {(0, 1),\n",
       "  (0, 2),\n",
       "  (0, 3),\n",
       "  (1, 2),\n",
       "  (1, 3),\n",
       "  (2, 3)}}"
      ]
     },
     "execution_count": 138,
     "metadata": {},
     "output_type": "execute_result"
    }
   ],
   "source": [
    "# Create dictionary of possible switches\n",
    "switching_components_dict_of_sets = {\n",
    "        f\"Consider {i} design variables\" : set(combinations(range(dim), i)) for i in cols_to_consider\n",
    "}\n",
    "# Delete case of switching nothing\n",
    "del switching_components_dict_of_sets[f\"Consider {cols_to_consider[0]} design variables\"]\n",
    "# Delete last case, because it is only the complement of either the changing one\n",
    "# (if even dim) or changing two (if uneven dim) variables\n",
    "del switching_components_dict_of_sets[f\"Consider {cols_to_consider[-1]} design variables\"]\n",
    "switching_components_dict_of_sets"
   ]
  },
  {
   "cell_type": "code",
   "execution_count": 139,
   "metadata": {},
   "outputs": [
    {
     "data": {
      "text/plain": [
       "array([2], dtype=int64)"
      ]
     },
     "execution_count": 139,
     "metadata": {},
     "output_type": "execute_result"
    }
   ],
   "source": [
    "\n",
    "n_components = np.where(help % 2 == 0)[0][1:]\n",
    "n_components"
   ]
  },
  {
   "cell_type": "code",
   "execution_count": 140,
   "metadata": {},
   "outputs": [
    {
     "data": {
      "text/plain": [
       "array([0, 2], dtype=int64)"
      ]
     },
     "execution_count": 140,
     "metadata": {},
     "output_type": "execute_result"
    }
   ],
   "source": [
    "np.where(help % 2 == 0)[0]"
   ]
  },
  {
   "cell_type": "code",
   "execution_count": null,
   "metadata": {},
   "outputs": [],
   "source": []
  }
 ],
 "metadata": {
  "kernelspec": {
   "display_name": "base",
   "language": "python",
   "name": "python3"
  },
  "language_info": {
   "codemirror_mode": {
    "name": "ipython",
    "version": 3
   },
   "file_extension": ".py",
   "mimetype": "text/x-python",
   "name": "python",
   "nbconvert_exporter": "python",
   "pygments_lexer": "ipython3",
   "version": "3.9.2"
  },
  "orig_nbformat": 4
 },
 "nbformat": 4,
 "nbformat_minor": 2
}
