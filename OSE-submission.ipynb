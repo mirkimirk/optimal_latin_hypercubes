{
 "cells": [
  {
   "cell_type": "code",
   "execution_count": 1,
   "metadata": {},
   "outputs": [],
   "source": [
    "%load_ext lab_black\n",
    "%matplotlib inline\n",
    "from src.model_code.latin_hypercubes import optimal_latin_hypercube_sample\n",
    "import numpy as np\n",
    "import seaborn as sns\n",
    "import matplotlib.pyplot as plt"
   ]
  },
  {
   "cell_type": "markdown",
   "metadata": {},
   "source": [
    "# Introduction\n",
    "\n",
    "In the following, our implementation of Park's [(1994)](https://www.sciencedirect.com/science/article/abs/pii/0378375894901155) algorithm for finding optimal (midpoint) Latin hypercubes in Python is presented. Latin hypercube sampling or design (Lhd) is a sampling method that is very popular in the context of computer experiments. By dividing the distributions of the input variables into intervals of equal length and enforcing to draw one sample from each interval for each variable, this promises a more uniform distribution of sampling points than plain random sampling. In the two-dimensional case, this means each sampling point will lie in a square in the plane, and there will be no sampling point in a square that lies on the same row or column as another point's square.\n",
    "\n",
    "While they are generally cheap to construct, their somewhat random generation can still leave some areas underrepresented, as the following example of a bad Latin hypercube demonstrates:"
   ]
  },
  {
   "cell_type": "code",
   "execution_count": 2,
   "metadata": {},
   "outputs": [
    {
     "data": {
      "image/png": "[encoded data removed]",
      "text/plain": [
       "<Figure size 432x288 with 1 Axes>"
      ]
     },
     "metadata": {
      "needs_background": "light"
     },
     "output_type": "display_data"
    }
   ],
   "source": [
    "fig, ax = plt.subplots()\n",
    "fig.suptitle(\"Example for a bad Lhd\")\n",
    "ax.set_xlim(0, 1)\n",
    "ax.set_ylim(0, 1)\n",
    "ax.set_ylabel(\"$F(x_2)$\")\n",
    "ax.set_xlabel(\"$F(x_1)$\")\n",
    "\n",
    "n = 10\n",
    "\n",
    "bad = np.array([[i / n, i / n] for i in range(n)])\n",
    "bad += np.random.default_rng().uniform(size=bad.shape) / n\n",
    "\n",
    "sns.regplot(\n",
    "    x=bad[:, 0],\n",
    "    y=bad[:, 1],\n",
    "    ax=ax,\n",
    "    fit_reg=False,\n",
    "    color=\"darkblue\",\n",
    "    scatter_kws={\"alpha\": 0.4},\n",
    ")\n",
    "\n",
    "for i in np.arange(0, 1, 1 / n):\n",
    "    plt.axhline(i)\n",
    "    plt.axvline(i)"
   ]
  },
  {
   "cell_type": "markdown",
   "metadata": {},
   "source": [
    "While this fulfills the requirements of a Latin hypercube design (each filled square is in its own row and column), there are visibly empty regions that have no sample points. The literature accordingly examined _optimal_ Latin hypercube designs (OLhds), which are designs that optimize some criterion function (often related to the covariance matrix), and found that these optimal designs are more efficient in the sense of yielding smaller prediction error. However, the optimization of the criterion functions can be computationally intensive so faster numerical algorithms have been devised to deal with this problem.\n",
    "\n",
    "## Park's proposal\n",
    "\n",
    "The algorithm presented here is based on Park (1994). His algorithm consists of two stages: first to find an optimal _midpoint_ Latin hypercube design (OMLhd), that is, a Latin hypercube that has its points in the center of their hypercube (or \"cell\"). And in the second stage, optimally vary the points within their assigned cells to further optimize the criterion function. While this method is not guaranteed to find the \"true\" OLhd because it first restricts itself to midpoint Lhds, it can be argued that for large enough sample sizes the volume of each cell becomes very small ($n^{-d}$ in the case of uniform distribution of the variables) and thus the distance between an MLhd and Lhd that fill the same cells (or have the same \"structure\") is negligible.\n",
    "\n",
    "## Formalization\n",
    "\n",
    "Let $(F_1, ..., F_d)$ be the distribution functions of the $d$ input variables $(X_1, ..., X_d)$, and $x_{i, j}$ be the $i$-th observation of the $j$-th variable. To design Latin hypercubes, we use the $n \\times d$ matrices $P$ and $R$, the former of which consists of columns that are some permutations of the numbers from 1 to n. The $R$ matrix has as entries in the $i$-th row and $j$-th column $r_{i, j} \\sim U(0, 1)$. When designing our Lhd, we determine $x_{i, j}$ as\n",
    "\\begin{equation}\n",
    "x_{i, j} = F_j^{-1}(\\frac{1}{n}(p_{i, j} - r_{i, j}))\n",
    "\\end{equation}\n",
    "The term $\\frac{p_{i, j}}{n}$ determines in which of the $n$ intervals $x_{i, j}$ is situated and $\\frac{r_{i, j}}{n}$ determines where within this interval $x_{i, j}$ lies. So the $i$-th row of the matrix $P$ determines the cell in which the $i$-th observation lands and the $i$-th row of the matrix $R$ determines _where_ in the cell the point lands. So [as I understand], the Lhd $S$ is defined by $S = P - R$. \n",
    "\n",
    "The first stage of the algorithm is thus equivalent to finding the optimal matrix $P^*$ while fixing $r_{i, j} = 0.5$ $\\forall i, j$, and the second stage then searches the optimal matrix $R^*$ after fixing $P^*$ found in the first stage. The algorithm presented in this paper explains the search for $P^*$ in the first stage as a row-exchange algorithm. The second stage is only alluded to as a straightforward application of a quasi-Newton numerical optimization method (\"EO4JBF\" from the NAG library). In the following, the first stage of the algorithm will be explained.\n",
    "\n",
    "## Park's algorithm\n",
    "\n"
   ]
  }
 ],
 "metadata": {
  "kernelspec": {
   "display_name": "Python 3",
   "language": "python",
   "name": "python3"
  },
  "language_info": {
   "codemirror_mode": {
    "name": "ipython",
    "version": 3
   },
   "file_extension": ".py",
   "mimetype": "text/x-python",
   "name": "python",
   "nbconvert_exporter": "python",
   "pygments_lexer": "ipython3",
   "version": "3.8.5"
  }
 },
 "nbformat": 4,
 "nbformat_minor": 4
}
